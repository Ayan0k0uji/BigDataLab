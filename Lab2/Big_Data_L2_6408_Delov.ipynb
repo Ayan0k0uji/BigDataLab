{
  "cells": [
    {
      "cell_type": "code",
      "execution_count": null,
      "id": "d033832d-65b6-4c0d-ad08-8307009f3641",
      "metadata": {
        "id": "d033832d-65b6-4c0d-ad08-8307009f3641"
      },
      "outputs": [],
      "source": [
        "#!wget https://git.ai.ssau.ru/tk/big_data/raw/branch/master/data/posts_sample.xml"
      ]
    },
    {
      "cell_type": "code",
      "execution_count": 19,
      "id": "49e6b0a7-dcbc-41be-9254-1f970f96e986",
      "metadata": {
        "id": "49e6b0a7-dcbc-41be-9254-1f970f96e986"
      },
      "outputs": [],
      "source": [
        "#!wget https://git.ai.ssau.ru/tk/big_data/raw/branch/master/data/programming-languages.csv"
      ]
    },
    {
      "cell_type": "code",
      "source": [
        "#!pip install pyspark"
      ],
      "metadata": {
        "id": "En-mFzt00imz"
      },
      "id": "En-mFzt00imz",
      "execution_count": 20,
      "outputs": []
    },
    {
      "cell_type": "code",
      "execution_count": 21,
      "id": "529fa294-485f-44c7-ba90-4030f1040fbe",
      "metadata": {
        "id": "529fa294-485f-44c7-ba90-4030f1040fbe"
      },
      "outputs": [],
      "source": [
        "import pyspark\n",
        "import os\n",
        "from datetime import datetime\n",
        "from pyspark.sql.functions import col\n",
        "from pyspark.sql import SparkSession"
      ]
    },
    {
      "cell_type": "code",
      "execution_count": 22,
      "id": "a4ff6d74-0bae-40e1-b821-e9d3ccce6e51",
      "metadata": {
        "id": "a4ff6d74-0bae-40e1-b821-e9d3ccce6e51"
      },
      "outputs": [],
      "source": [
        "os.environ['PYSPARK_SUBMIT_ARGS'] = '--packages com.databricks:spark-xml_2.12:0.13.0 pyspark-shell'\n",
        "SparkSes = SparkSession.builder.appName(\"l2\").master(\"local[*]\").getOrCreate()"
      ]
    },
    {
      "cell_type": "code",
      "execution_count": 23,
      "id": "78a4791d-2a8b-4b95-83be-63b17dcbaa07",
      "metadata": {
        "id": "78a4791d-2a8b-4b95-83be-63b17dcbaa07"
      },
      "outputs": [],
      "source": [
        "progLang = SparkSes.read.csv(\"programming-languages.csv\")\n",
        "progLang_list = [str(x[0]) for x in progLang.collect()]"
      ]
    },
    {
      "cell_type": "code",
      "execution_count": 24,
      "id": "13179dd3-9833-4d31-97fd-a98a74eb9643",
      "metadata": {
        "id": "13179dd3-9833-4d31-97fd-a98a74eb9643"
      },
      "outputs": [],
      "source": [
        "posts = SparkSes.read.format(\"xml\").options(rowTag=\"row\").load('posts_sample.xml')"
      ]
    },
    {
      "cell_type": "code",
      "source": [
        "def languageDetection(x):\n",
        "  tag = None\n",
        "  for language in progLang_list:\n",
        "    if \"<\" + language.lower() + \">\" in x._Tags.lower():\n",
        "      tag = language\n",
        "      break\n",
        "  if tag is None:\n",
        "    return None\n",
        "  return (x._Id, tag)\n",
        "\n",
        "\n",
        "def checkDate(x, year):\n",
        "  CreationDate = x._CreationDate\n",
        "  return CreationDate >= datetime(year=year, month=1, day=1) and\\\n",
        "         CreationDate <= datetime(year=year, month=12, day=31)"
      ],
      "metadata": {
        "id": "blf_9Ta8BWdM"
      },
      "id": "blf_9Ta8BWdM",
      "execution_count": 25,
      "outputs": []
    },
    {
      "cell_type": "code",
      "execution_count": 26,
      "id": "e8e9383b-e90f-4f66-aed6-482274219799",
      "metadata": {
        "colab": {
          "base_uri": "https://localhost:8080/"
        },
        "id": "e8e9383b-e90f-4f66-aed6-482274219799",
        "outputId": "8b994a1a-35af-4d91-c71d-f5b7453a46ff"
      },
      "outputs": [
        {
          "output_type": "stream",
          "name": "stdout",
          "text": [
            "+---------------------+----------------------------+\n",
            "|Язык программирования|Количество упоминаний в 2010|\n",
            "+---------------------+----------------------------+\n",
            "|                 Java|                          52|\n",
            "|           JavaScript|                          44|\n",
            "|                  PHP|                          42|\n",
            "|               Python|                          25|\n",
            "|          Objective-C|                          22|\n",
            "|                    C|                          20|\n",
            "|                 Ruby|                          11|\n",
            "|               Delphi|                           7|\n",
            "|                    R|                           3|\n",
            "|                 Bash|                           3|\n",
            "+---------------------+----------------------------+\n",
            "\n",
            "+---------------------+----------------------------+\n",
            "|Язык программирования|Количество упоминаний в 2011|\n",
            "+---------------------+----------------------------+\n",
            "|                  PHP|                          97|\n",
            "|                 Java|                          92|\n",
            "|           JavaScript|                          82|\n",
            "|               Python|                          35|\n",
            "|          Objective-C|                          33|\n",
            "|                    C|                          24|\n",
            "|                 Ruby|                          17|\n",
            "|               Delphi|                           8|\n",
            "|                 Perl|                           8|\n",
            "|                 Bash|                           7|\n",
            "+---------------------+----------------------------+\n",
            "\n",
            "+---------------------+----------------------------+\n",
            "|Язык программирования|Количество упоминаний в 2012|\n",
            "+---------------------+----------------------------+\n",
            "|                  PHP|                         136|\n",
            "|           JavaScript|                         129|\n",
            "|                 Java|                         124|\n",
            "|               Python|                          65|\n",
            "|          Objective-C|                          45|\n",
            "|                    C|                          27|\n",
            "|                 Ruby|                          25|\n",
            "|                 Bash|                           9|\n",
            "|                    R|                           9|\n",
            "|               MATLAB|                           6|\n",
            "+---------------------+----------------------------+\n",
            "\n",
            "+---------------------+----------------------------+\n",
            "|Язык программирования|Количество упоминаний в 2013|\n",
            "+---------------------+----------------------------+\n",
            "|           JavaScript|                         196|\n",
            "|                 Java|                         191|\n",
            "|                  PHP|                         173|\n",
            "|               Python|                          87|\n",
            "|          Objective-C|                          40|\n",
            "|                    C|                          36|\n",
            "|                 Ruby|                          30|\n",
            "|                    R|                          25|\n",
            "|                 Bash|                          11|\n",
            "|                Scala|                          10|\n",
            "+---------------------+----------------------------+\n",
            "\n",
            "+---------------------+----------------------------+\n",
            "|Язык программирования|Количество упоминаний в 2014|\n",
            "+---------------------+----------------------------+\n",
            "|           JavaScript|                         235|\n",
            "|                 Java|                         228|\n",
            "|                  PHP|                         154|\n",
            "|               Python|                         103|\n",
            "|                    C|                          52|\n",
            "|          Objective-C|                          49|\n",
            "|                    R|                          28|\n",
            "|                 Ruby|                          20|\n",
            "|               MATLAB|                          16|\n",
            "|                 Bash|                          13|\n",
            "+---------------------+----------------------------+\n",
            "\n",
            "+---------------------+----------------------------+\n",
            "|Язык программирования|Количество упоминаний в 2015|\n",
            "+---------------------+----------------------------+\n",
            "|           JavaScript|                         270|\n",
            "|                 Java|                         208|\n",
            "|                  PHP|                         147|\n",
            "|               Python|                         119|\n",
            "|                    R|                          43|\n",
            "|                    C|                          38|\n",
            "|          Objective-C|                          30|\n",
            "|                 Ruby|                          20|\n",
            "|               MATLAB|                          16|\n",
            "|                Scala|                          13|\n",
            "+---------------------+----------------------------+\n",
            "\n",
            "+---------------------+----------------------------+\n",
            "|Язык программирования|Количество упоминаний в 2016|\n",
            "+---------------------+----------------------------+\n",
            "|           JavaScript|                         271|\n",
            "|                 Java|                         178|\n",
            "|               Python|                         140|\n",
            "|                  PHP|                         126|\n",
            "|                    R|                          50|\n",
            "|                    C|                          32|\n",
            "|                 Ruby|                          21|\n",
            "|                 Bash|                          16|\n",
            "|                Scala|                          16|\n",
            "|               MATLAB|                          15|\n",
            "+---------------------+----------------------------+\n",
            "\n",
            "+---------------------+----------------------------+\n",
            "|Язык программирования|Количество упоминаний в 2017|\n",
            "+---------------------+----------------------------+\n",
            "|           JavaScript|                         244|\n",
            "|                 Java|                         204|\n",
            "|               Python|                         185|\n",
            "|                  PHP|                         122|\n",
            "|                    R|                          53|\n",
            "|                    C|                          24|\n",
            "|          Objective-C|                          19|\n",
            "|                 Ruby|                          16|\n",
            "|           TypeScript|                          14|\n",
            "|           PowerShell|                          14|\n",
            "+---------------------+----------------------------+\n",
            "\n",
            "+---------------------+----------------------------+\n",
            "|Язык программирования|Количество упоминаний в 2018|\n",
            "+---------------------+----------------------------+\n",
            "|               Python|                         214|\n",
            "|           JavaScript|                         194|\n",
            "|                 Java|                         145|\n",
            "|                  PHP|                          99|\n",
            "|                    R|                          63|\n",
            "|                    C|                          24|\n",
            "|                Scala|                          22|\n",
            "|           TypeScript|                          21|\n",
            "|           PowerShell|                          13|\n",
            "|                 Bash|                          12|\n",
            "+---------------------+----------------------------+\n",
            "\n",
            "+---------------------+----------------------------+\n",
            "|Язык программирования|Количество упоминаний в 2019|\n",
            "+---------------------+----------------------------+\n",
            "|               Python|                         162|\n",
            "|           JavaScript|                         131|\n",
            "|                 Java|                          95|\n",
            "|                  PHP|                          59|\n",
            "|                    R|                          36|\n",
            "|                    C|                          14|\n",
            "|                   Go|                           9|\n",
            "|               MATLAB|                           9|\n",
            "|                 Dart|                           9|\n",
            "|                 Bash|                           8|\n",
            "+---------------------+----------------------------+\n",
            "\n"
          ]
        }
      ],
      "source": [
        "res = {}\n",
        "\n",
        "for year in range(2010, 2020):\n",
        "  res[year] = posts.rdd\\\n",
        "      .filter(lambda x: x._Tags is not None and checkDate(x, year))\\\n",
        "      .map(languageDetection).filter(lambda x: x is not None)\\\n",
        "      .keyBy(lambda x: x[1])\\\n",
        "      .aggregateByKey(0, lambda x, y: x + 1, lambda x1, x2: x1 + x2,)\\\n",
        "      .sortBy(lambda x: x[1], ascending=False).toDF()\n",
        "\n",
        "  res[year] = res[year].select(col(\"_1\").alias(\"Язык программирования\"),\n",
        "                               col(\"_2\").alias(f\"Количество упоминаний в {year}\")).limit(10)\n",
        "  res[year].show()"
      ]
    },
    {
      "cell_type": "markdown",
      "source": [
        "# Новый раздел"
      ],
      "metadata": {
        "id": "9MMmyfZ58ruo"
      },
      "id": "9MMmyfZ58ruo"
    },
    {
      "cell_type": "code",
      "execution_count": null,
      "id": "16dc7ffe-6b44-49bf-a503-086693eeee27",
      "metadata": {
        "id": "16dc7ffe-6b44-49bf-a503-086693eeee27"
      },
      "outputs": [],
      "source": [
        "for year in res.keys():\n",
        "    res[year].write.format(\"parquet\").save(f\"{year}\")"
      ]
    }
  ],
  "metadata": {
    "kernelspec": {
      "display_name": "Python 3",
      "language": "python",
      "name": "python3"
    },
    "language_info": {
      "codemirror_mode": {
        "name": "ipython",
        "version": 3
      },
      "file_extension": ".py",
      "mimetype": "text/x-python",
      "name": "python",
      "nbconvert_exporter": "python",
      "pygments_lexer": "ipython3",
      "version": "3.6.9"
    },
    "colab": {
      "provenance": []
    }
  },
  "nbformat": 4,
  "nbformat_minor": 5
}